{
 "cells": [
  {
   "cell_type": "code",
   "execution_count": 1,
   "metadata": {
    "tags": []
   },
   "outputs": [
    {
     "name": "stderr",
     "output_type": "stream",
     "text": [
      "/home/codespace/.python/current/lib/python3.10/site-packages/tqdm/auto.py:21: TqdmWarning: IProgress not found. Please update jupyter and ipywidgets. See https://ipywidgets.readthedocs.io/en/stable/user_install.html\n",
      "  from .autonotebook import tqdm as notebook_tqdm\n"
     ]
    }
   ],
   "source": [
    "# Load packages\n",
    "import pandas as pd\n",
    "import biogeme.database as db\n",
    "import biogeme.biogeme as bio\n",
    "import biogeme.models as models\n",
    "import biogeme.messaging as msg\n",
    "from biogeme.expressions import Beta, Variable, Derive\n",
    "\n",
    "# Change me after the first run to save some time\n",
    "FIRST_RUN = True"
   ]
  },
  {
   "cell_type": "code",
   "execution_count": 2,
   "metadata": {},
   "outputs": [],
   "source": [
    "if FIRST_RUN:\n",
    "    # Load in the trips csv file\n",
    "    # As written, this will search back one directory level from the current file and in a \"Data\" folder containing the datasets. The reference will be different unless you define the same directory structure.\n",
    "    trip_df = pd.read_parquet(\"../data/trips_all.parquet\")\n",
    "    # We want to be able to filter by home location (not given in trip data) and include hh and person details so need hh_all.csv/per_all.csv\n",
    "    hh_df = pd.read_parquet(\"../data/hh_all.parquet\")\n",
    "    per_df = pd.read_parquet(\"../data/per_all.parquet\")\n",
    "    # We'll need household weights for the zone-based model analysis to generate some approximate zonal statistics\n",
    "    hh_wgt_df = pd.read_parquet(\"../data/hh_wgt_all.parquet\")\n",
    "\n",
    "    # Merge on UID, which is a combination of a household id and a dataset id \n",
    "    trip_df = trip_df.merge(hh_df.loc[:,[\"UID\",\"hh_cbsa\"]], on=\"UID\")\n",
    "\n",
    "    trip_df.to_parquet(\"my_hh_trip_data.parquet\",index=False)\n",
    "else:\n",
    "    trip_df = pd.read_parquet(\"my_hh_trip_data.parquet\")"
   ]
  },
  {
   "cell_type": "code",
   "execution_count": 3,
   "metadata": {},
   "outputs": [
    {
     "data": {
      "text/html": [
       "<div>\n",
       "<style scoped>\n",
       "    .dataframe tbody tr th:only-of-type {\n",
       "        vertical-align: middle;\n",
       "    }\n",
       "\n",
       "    .dataframe tbody tr th {\n",
       "        vertical-align: top;\n",
       "    }\n",
       "\n",
       "    .dataframe thead th {\n",
       "        text-align: right;\n",
       "    }\n",
       "</style>\n",
       "<table border=\"1\" class=\"dataframe\">\n",
       "  <thead>\n",
       "    <tr style=\"text-align: right;\">\n",
       "      <th></th>\n",
       "      <th>sampno</th>\n",
       "      <th>perno</th>\n",
       "      <th>tripno</th>\n",
       "      <th>o_locno</th>\n",
       "      <th>locno</th>\n",
       "      <th>strttime</th>\n",
       "      <th>endtime</th>\n",
       "      <th>trvlcmin</th>\n",
       "      <th>distance_mi</th>\n",
       "      <th>trpmiles</th>\n",
       "      <th>...</th>\n",
       "      <th>transit_acct</th>\n",
       "      <th>transit_egrt</th>\n",
       "      <th>transit_waitt</th>\n",
       "      <th>UID</th>\n",
       "      <th>pub_reason</th>\n",
       "      <th>wtperfin5d</th>\n",
       "      <th>wttrdfin5d</th>\n",
       "      <th>wtperfin</th>\n",
       "      <th>wttrdfin</th>\n",
       "      <th>hh_cbsa</th>\n",
       "    </tr>\n",
       "  </thead>\n",
       "  <tbody>\n",
       "    <tr>\n",
       "      <th>0</th>\n",
       "      <td>30000449</td>\n",
       "      <td>1</td>\n",
       "      <td>1</td>\n",
       "      <td>100</td>\n",
       "      <td>102</td>\n",
       "      <td>829</td>\n",
       "      <td>855</td>\n",
       "      <td>26</td>\n",
       "      <td>9.515</td>\n",
       "      <td>9.515</td>\n",
       "      <td>...</td>\n",
       "      <td>8.291029</td>\n",
       "      <td>11.263992</td>\n",
       "      <td>9.576387</td>\n",
       "      <td>30000449.1</td>\n",
       "      <td>NaN</td>\n",
       "      <td>None</td>\n",
       "      <td>None</td>\n",
       "      <td>NaN</td>\n",
       "      <td>NaN</td>\n",
       "      <td>12260</td>\n",
       "    </tr>\n",
       "    <tr>\n",
       "      <th>1</th>\n",
       "      <td>30000449</td>\n",
       "      <td>1</td>\n",
       "      <td>2</td>\n",
       "      <td>102</td>\n",
       "      <td>1000000</td>\n",
       "      <td>905</td>\n",
       "      <td>910</td>\n",
       "      <td>5</td>\n",
       "      <td>0.307</td>\n",
       "      <td>0.307</td>\n",
       "      <td>...</td>\n",
       "      <td>6.256466</td>\n",
       "      <td>7.472391</td>\n",
       "      <td>9.479657</td>\n",
       "      <td>30000449.1</td>\n",
       "      <td>NaN</td>\n",
       "      <td>None</td>\n",
       "      <td>None</td>\n",
       "      <td>NaN</td>\n",
       "      <td>NaN</td>\n",
       "      <td>12260</td>\n",
       "    </tr>\n",
       "    <tr>\n",
       "      <th>2</th>\n",
       "      <td>30000449</td>\n",
       "      <td>1</td>\n",
       "      <td>3</td>\n",
       "      <td>1000000</td>\n",
       "      <td>102</td>\n",
       "      <td>1000</td>\n",
       "      <td>1005</td>\n",
       "      <td>5</td>\n",
       "      <td>0.307</td>\n",
       "      <td>0.307</td>\n",
       "      <td>...</td>\n",
       "      <td>6.256466</td>\n",
       "      <td>7.472391</td>\n",
       "      <td>9.479657</td>\n",
       "      <td>30000449.1</td>\n",
       "      <td>NaN</td>\n",
       "      <td>None</td>\n",
       "      <td>None</td>\n",
       "      <td>NaN</td>\n",
       "      <td>NaN</td>\n",
       "      <td>12260</td>\n",
       "    </tr>\n",
       "    <tr>\n",
       "      <th>3</th>\n",
       "      <td>30000449</td>\n",
       "      <td>1</td>\n",
       "      <td>4</td>\n",
       "      <td>102</td>\n",
       "      <td>1000001</td>\n",
       "      <td>1315</td>\n",
       "      <td>1330</td>\n",
       "      <td>15</td>\n",
       "      <td>1.823</td>\n",
       "      <td>1.823</td>\n",
       "      <td>...</td>\n",
       "      <td>6.256466</td>\n",
       "      <td>7.472391</td>\n",
       "      <td>9.479657</td>\n",
       "      <td>30000449.1</td>\n",
       "      <td>NaN</td>\n",
       "      <td>None</td>\n",
       "      <td>None</td>\n",
       "      <td>NaN</td>\n",
       "      <td>NaN</td>\n",
       "      <td>12260</td>\n",
       "    </tr>\n",
       "    <tr>\n",
       "      <th>4</th>\n",
       "      <td>30000449</td>\n",
       "      <td>1</td>\n",
       "      <td>5</td>\n",
       "      <td>1000001</td>\n",
       "      <td>102</td>\n",
       "      <td>1625</td>\n",
       "      <td>1640</td>\n",
       "      <td>15</td>\n",
       "      <td>1.815</td>\n",
       "      <td>1.815</td>\n",
       "      <td>...</td>\n",
       "      <td>6.256466</td>\n",
       "      <td>7.472391</td>\n",
       "      <td>9.479657</td>\n",
       "      <td>30000449.1</td>\n",
       "      <td>NaN</td>\n",
       "      <td>None</td>\n",
       "      <td>None</td>\n",
       "      <td>NaN</td>\n",
       "      <td>NaN</td>\n",
       "      <td>12260</td>\n",
       "    </tr>\n",
       "  </tbody>\n",
       "</table>\n",
       "<p>5 rows × 158 columns</p>\n",
       "</div>"
      ],
      "text/plain": [
       "     sampno  perno  tripno  o_locno    locno  strttime  endtime  trvlcmin  \\\n",
       "0  30000449      1       1      100      102       829      855        26   \n",
       "1  30000449      1       2      102  1000000       905      910         5   \n",
       "2  30000449      1       3  1000000      102      1000     1005         5   \n",
       "3  30000449      1       4      102  1000001      1315     1330        15   \n",
       "4  30000449      1       5  1000001      102      1625     1640        15   \n",
       "\n",
       "   distance_mi  trpmiles  ...  transit_acct  transit_egrt  transit_waitt  \\\n",
       "0        9.515     9.515  ...      8.291029     11.263992       9.576387   \n",
       "1        0.307     0.307  ...      6.256466      7.472391       9.479657   \n",
       "2        0.307     0.307  ...      6.256466      7.472391       9.479657   \n",
       "3        1.823     1.823  ...      6.256466      7.472391       9.479657   \n",
       "4        1.815     1.815  ...      6.256466      7.472391       9.479657   \n",
       "\n",
       "          UID  pub_reason  wtperfin5d  wttrdfin5d  wtperfin  wttrdfin  hh_cbsa  \n",
       "0  30000449.1         NaN        None        None       NaN       NaN    12260  \n",
       "1  30000449.1         NaN        None        None       NaN       NaN    12260  \n",
       "2  30000449.1         NaN        None        None       NaN       NaN    12260  \n",
       "3  30000449.1         NaN        None        None       NaN       NaN    12260  \n",
       "4  30000449.1         NaN        None        None       NaN       NaN    12260  \n",
       "\n",
       "[5 rows x 158 columns]"
      ]
     },
     "execution_count": 3,
     "metadata": {},
     "output_type": "execute_result"
    }
   ],
   "source": [
    "trip_df.head()"
   ]
  },
  {
   "cell_type": "markdown",
   "metadata": {
    "tags": []
   },
   "source": [
    "# Important columns\n",
    "Some important columns to make note of when developing your models are given below. Note: we could obtain an estimate for transit cost from GTFS data. We'll ignore transit cost for the purposes of the assignment though.\n",
    "- auto_tt = auto travel time in minutes\n",
    "- auto_cost = auto cost in dollars\n",
    "- transit_tt = transit travel time in minutes\n",
    "- transit_acct = transit access time in minutes\n",
    "- transit_egrt = transit egress time in minutes\n",
    "- transit_waitt = transit wait time in minutes\n",
    "- trpmiles = trip distance in miles\n",
    "- ch_mode = {1 = walk, 2 = bike, 3 = auto, 4 = transit}"
   ]
  },
  {
   "cell_type": "markdown",
   "metadata": {},
   "source": [
    "Biogeme, like most discrete choice software, requires that all data are numeric. We have several columns with non-numeric entries. We'll have to do some processing to prepare the data for use with Biogeme."
   ]
  },
  {
   "cell_type": "code",
   "execution_count": 4,
   "metadata": {
    "tags": []
   },
   "outputs": [],
   "source": [
    "# Filter data for your region\n",
    "my_trips = trip_df.loc[(trip_df.hh_cbsa==\"24580\")]"
   ]
  },
  {
   "cell_type": "markdown",
   "metadata": {},
   "source": [
    "# Home-Based Non-Work Trip Model\n"
   ]
  },
  {
   "cell_type": "code",
   "execution_count": 5,
   "metadata": {},
   "outputs": [],
   "source": [
    "hbnw_filt = ((my_trips.trippurp==\"HBO\") | (my_trips.trippurp==\"HBSHOP\") | (my_trips.trippurp==\"HBSOCREC\"))\n",
    "# This line will filter for non-work trips. It also removes any column with object datatype.\n",
    "# If a column appears in the data description but not the dataframe after running this line, you may have to\n",
    "# do some processing to have it available to you for model estimation. E.g., you can change a string trippurp code to\n",
    "# an integer code - HBO = 1, etc..\n",
    "hbnw_trips = my_trips.loc[hbnw_filt].select_dtypes(exclude=['object'])\n",
    "hbnw_trips.fillna(-1, inplace=True)\n",
    "# Biogeme requires information on if an alternative is available\n",
    "# Here, I'm assuming that auto/transit modes are always available. We could exclude auto for those without a license.\n",
    "# I assume that walk/bike are available for trips with distances less than the maximum reported trip distance with that as the chosen mode\n",
    "hbnw_trips[\"walk_av\"] = (hbnw_trips.trpmiles   <=  hbnw_trips[hbnw_trips.ch_mode==1].trpmiles.max()).astype(int)\n",
    "hbnw_trips[\"bike_av\"] = (hbnw_trips.trpmiles   <=  hbnw_trips[hbnw_trips.ch_mode==2].trpmiles.max()).astype(int)\n",
    "hbnw_trips[\"auto_av\"] = 1\n",
    "hbnw_trips[\"transit_av\"] = 1"
   ]
  },
  {
   "cell_type": "markdown",
   "metadata": {},
   "source": [
    "We don't want to include a record if it has a negative value in a critical column. We'll filter the dataframe for those important columns."
   ]
  },
  {
   "cell_type": "code",
   "execution_count": 6,
   "metadata": {},
   "outputs": [],
   "source": [
    "# Update based on if you add more columns to models that potentially contain negative numbers\n",
    "check_cols = [\"auto_tt\",\"auto_cost\", \"transit_tt\", \"transit_acct\", \"transit_egrt\", \"transit_waitt\", \"trpmiles\", \"ch_mode\"]\n",
    "hbnw_trips = hbnw_trips[hbnw_trips.loc[:,check_cols].sum(axis=1)>-1]"
   ]
  },
  {
   "cell_type": "code",
   "execution_count": 7,
   "metadata": {
    "scrolled": true
   },
   "outputs": [],
   "source": [
    "# Need to import data to the Biogeme database structure\n",
    "database = db.Database(\"my_hbnw_trips\",hbnw_trips)\n",
    "database.data.head()\n",
    "\n",
    "# Define Biogeme variables\n",
    "AUTO_TT = Variable(\"auto_tt\")\n",
    "AUTO_COST = Variable(\"auto_cost\")\n",
    "TRANSIT_TT = Variable(\"transit_tt\")\n",
    "DIST = Variable(\"trpmiles\")\n",
    "CHOICE = Variable(\"ch_mode\")\n",
    "WALK_AV = Variable(\"walk_av\")\n",
    "BIKE_AV = Variable(\"bike_av\")\n",
    "AUTO_AV = Variable(\"auto_av\")\n",
    "TRANSIT_AV = Variable(\"transit_av\")"
   ]
  },
  {
   "cell_type": "markdown",
   "metadata": {},
   "source": [
    "We can then define the names and starting values for the model parameters. There are 5 parameters defined for the base Swiss Metro model. Biogeme uses a constrained optimization to reduce the search space. The Beta function is called as follows:\n",
    "```python\n",
    "Beta(parameter name AS str, initial value AS int, lower bound AS int, upper bound AS int, fixed AS int)\n",
    "```\n",
    "If there are no bounds on the parameter search space, the use may enter: ```None```. A value of ```0``` for the ```fixed``` parameter will allow Biogeme to estimate the parameter. In this case, we have only fixed the ASC for the swiss metro mode, to maintain model indentification."
   ]
  },
  {
   "cell_type": "code",
   "execution_count": 8,
   "metadata": {},
   "outputs": [],
   "source": [
    "ASC_WALK = Beta('ASC_WALK',0,None,None,0)\n",
    "ASC_BIKE = Beta('ASC_BIKE',0,None,None,0)\n",
    "ASC_TRANSIT = Beta('ASC_TRANSIT',0,None,None,0)\n",
    "B_TIME = Beta('B_TIME',0,None,None,0)\n",
    "B_COST = Beta('B_COST',0,None,None,0)\n",
    "B_DIST = Beta('B_DIST',0,None,None,0)"
   ]
  },
  {
   "cell_type": "markdown",
   "metadata": {},
   "source": [
    "The next step is to define the utility function for each alternative mode."
   ]
  },
  {
   "cell_type": "code",
   "execution_count": 9,
   "metadata": {
    "tags": []
   },
   "outputs": [],
   "source": [
    "V1 = ASC_WALK + \\\n",
    "     B_DIST * DIST\n",
    "V2 = ASC_BIKE + \\\n",
    "     B_DIST * DIST\n",
    "V3 = B_TIME * AUTO_TT + \\\n",
    "     B_COST * AUTO_COST\n",
    "V4 = ASC_TRANSIT + \\\n",
    "     B_TIME * TRANSIT_TT"
   ]
  },
  {
   "cell_type": "markdown",
   "metadata": {},
   "source": [
    "Biogeme has a variety of built-in discrete choice models, which the user can leverage. However, it also allows the user to define their own likelihood function if it is not available in the built-in model library. In this case, we use the built-in ```loglogit``` function to estimate the model."
   ]
  },
  {
   "cell_type": "code",
   "execution_count": 10,
   "metadata": {},
   "outputs": [],
   "source": [
    "# Associate utility functions with the numbering of alternatives\n",
    "V = {1: V1,\n",
    "     2: V2,\n",
    "     3: V3,\n",
    "     4: V4}\n",
    "\n",
    "# Associate the availability conditions with the alternatives\n",
    "\n",
    "av = {1: WALK_AV,\n",
    "      2: BIKE_AV,\n",
    "      3: AUTO_AV,\n",
    "      4: TRANSIT_AV}\n",
    "\n",
    "logprob_nw = models.loglogit(V,av,CHOICE)\n",
    "biogeme_nw  = bio.BIOGEME(database,logprob_nw)\n",
    "biogeme_nw.modelName = \"01logit_nw\"\n",
    "results_nw = biogeme_nw.estimate()"
   ]
  },
  {
   "cell_type": "markdown",
   "metadata": {},
   "source": [
    "The results of the model estimation can then be printed to the terminal."
   ]
  },
  {
   "cell_type": "code",
   "execution_count": 11,
   "metadata": {
    "scrolled": true
   },
   "outputs": [
    {
     "name": "stdout",
     "output_type": "stream",
     "text": [
      "                Value  Rob. Std err  Rob. t-test  Rob. p-value\n",
      "ASC_BIKE    -3.649694      2.032866    -1.795344      0.072599\n",
      "ASC_TRANSIT -5.253527      1.941818    -2.705468      0.006821\n",
      "ASC_WALK    -1.295443      2.008327    -0.645036      0.518904\n",
      "B_COST      -0.002484      0.008481    -0.292937      0.769570\n",
      "B_DIST      -0.860641      0.415963    -2.069033      0.038543\n",
      "B_TIME      -0.027915      0.025537    -1.093106      0.274347\n"
     ]
    }
   ],
   "source": [
    "# Get the results in a pandas table\n",
    "# Rob. Std. err are standard errors that are robust to heteroskadastic errors.\n",
    "# This knowledge is beyond the CIVE461 scope.\n",
    "pandasResults_nw = results_nw.getEstimatedParameters()\n",
    "print(pandasResults_nw)"
   ]
  },
  {
   "cell_type": "code",
   "execution_count": 12,
   "metadata": {},
   "outputs": [],
   "source": [
    "\n",
    "asc_bike_estimate = pandasResults_nw.loc['ASC_BIKE', 'Value']\n",
    "\n"
   ]
  },
  {
   "cell_type": "markdown",
   "metadata": {},
   "source": [
    "**NOTE:** The above model gives appropriate results for the sample CBSA! This may not be true for your dataset. DO NOT submit results with positive cost, distance, or time parameters."
   ]
  },
  {
   "cell_type": "markdown",
   "metadata": {},
   "source": [
    "Biogeme also includes functionalities to compute elasticties for model variables. The elasticity can be calculated directly by the user, but Biogeme also includes functions for calculating derivatives for the user.\n",
    "\n",
    "We have to redefine the model for it to run in a Jupyter notebook, so there is some repetition in the following code. Note: the parameter definitions have been slightly altered to use the calculated betas. These are stored in a dictionary and the values can be accessed through reference to the appropriate dictionary keys."
   ]
  },
  {
   "cell_type": "code",
   "execution_count": 13,
   "metadata": {},
   "outputs": [],
   "source": [
    "# Get the beta parameters estimated in previous step\n",
    "betas = results_nw.getBetaValues()\n",
    "\n",
    "ASC_WALK = Beta('ASC_WALK',betas['ASC_WALK'],None,None,0)\n",
    "ASC_BIKE = Beta('ASC_BIKE',betas['ASC_BIKE'],None,None,0)\n",
    "ASC_TRANSIT = Beta('ASC_TRANSIT',betas['ASC_TRANSIT'],None,None,0)\n",
    "B_TIME = Beta('B_TIME',betas['B_TIME'],None,None,0)\n",
    "B_COST = Beta('B_COST',betas['B_COST'],None,None,0)\n",
    "B_DIST = Beta('B_DIST',betas['B_DIST'],None,None,0)\n",
    "\n",
    "prob1_nw = models.logit(V,av,1)\n",
    "prob2_nw = models.logit(V,av,2)\n",
    "prob3_nw = models.logit(V,av,3)\n",
    "prob4_nw = models.logit(V,av,4)"
   ]
  },
  {
   "cell_type": "markdown",
   "metadata": {},
   "source": [
    "We can then calculate the set of elasticities. We can then complete the process using the .simulate() function. This will calculate the probabilities and elasticities for each observation. The Pandas .describe() function is useful to print the statistics for each of these calculated values (i.e. mean, minimum, maximum, standard deviation, percentiles)."
   ]
  },
  {
   "cell_type": "code",
   "execution_count": 14,
   "metadata": {
    "scrolled": true
   },
   "outputs": [
    {
     "name": "stderr",
     "output_type": "stream",
     "text": [
      "The chosen alternative [`1.0`] is not available for the following observations (rownumber[choice]): 7[1.0]-8[1.0]-9[1.0]-10[1.0]-16[1.0]-17[1.0]-18[1.0]-25[1.0]-26[1.0]-32[1.0]-33[1.0]-37[1.0]-38[1.0]...\n",
      "The chosen alternative [`2.0`] is not available for the following observations (rownumber[choice]): 139[2.0]-141[2.0]-326[2.0]-327[2.0]-408[2.0]-409[2.0]-410[2.0]-411[2.0]-506[2.0]-507[2.0]-529[2.0]-5...\n",
      "The chosen alternative [`1.0`] is not available for the following observations (rownumber[choice]): 7[1.0]-8[1.0]-9[1.0]-10[1.0]-16[1.0]-17[1.0]-18[1.0]-25[1.0]-26[1.0]-32[1.0]-33[1.0]-37[1.0]-38[1.0]...\n",
      "The chosen alternative [`2.0`] is not available for the following observations (rownumber[choice]): 139[2.0]-141[2.0]-326[2.0]-327[2.0]-408[2.0]-409[2.0]-410[2.0]-411[2.0]-506[2.0]-507[2.0]-529[2.0]-5...\n",
      "The chosen alternative [`1.0`] is not available for the following observations (rownumber[choice]): 7[1.0]-8[1.0]-9[1.0]-10[1.0]-16[1.0]-17[1.0]-18[1.0]-25[1.0]-26[1.0]-32[1.0]-33[1.0]-37[1.0]-38[1.0]...\n",
      "The chosen alternative [`2.0`] is not available for the following observations (rownumber[choice]): 139[2.0]-141[2.0]-326[2.0]-327[2.0]-408[2.0]-409[2.0]-410[2.0]-411[2.0]-506[2.0]-507[2.0]-529[2.0]-5...\n",
      "The chosen alternative [`1.0`] is not available for the following observations (rownumber[choice]): 7[1.0]-8[1.0]-9[1.0]-10[1.0]-16[1.0]-17[1.0]-18[1.0]-25[1.0]-26[1.0]-32[1.0]-33[1.0]-37[1.0]-38[1.0]...\n",
      "The chosen alternative [`2.0`] is not available for the following observations (rownumber[choice]): 139[2.0]-141[2.0]-326[2.0]-327[2.0]-408[2.0]-409[2.0]-410[2.0]-411[2.0]-506[2.0]-507[2.0]-529[2.0]-5...\n"
     ]
    },
    {
     "name": "stdout",
     "output_type": "stream",
     "text": [
      "Non-work results=         Prob. walk   Prob. bike   Prob. auto  Prob. transit  logit elas. 1  \\\n",
      "count  2454.000000  2454.000000  2454.000000    2454.000000    2454.000000   \n",
      "mean      0.077017     0.007335     0.911165       0.004483      -1.294447   \n",
      "std       0.106430     0.010092     0.118025       0.021085       1.442684   \n",
      "min       0.000000     0.000000     0.000543       0.000003      -5.143860   \n",
      "25%       0.000000     0.000078     0.862796       0.003028      -2.205280   \n",
      "50%       0.028784     0.002733     0.964108       0.003585      -0.768611   \n",
      "75%       0.120982     0.011489     0.996449       0.004093       0.000000   \n",
      "max       0.912773     0.086681     0.998329       0.995258       0.675792   \n",
      "\n",
      "       logit elas. 2  logit elas. 3  logit elas. 4  \n",
      "count    2454.000000    2454.000000    2454.000000  \n",
      "mean       -5.828425      -0.036099      -1.331051  \n",
      "std         8.452289       0.311131       0.524006  \n",
      "min       -60.244885     -11.946624      -3.440869  \n",
      "25%        -6.565069      -0.028000      -1.808263  \n",
      "50%        -3.002452      -0.010879      -1.248347  \n",
      "75%        -1.408382      -0.002466      -0.875053  \n",
      "max         7.074373      -0.000274      -0.009269  \n"
     ]
    }
   ],
   "source": [
    "logitelas1_nw = WALK_AV * (1.0 - prob1_nw) * DIST * B_DIST\n",
    "logitelas2_nw = BIKE_AV * (1.0 - prob2_nw) * DIST * B_DIST\n",
    "logitelas3_nw = (1.0 - prob3_nw) * AUTO_TT * B_TIME\n",
    "logitelas4_nw = (1.0 - prob4_nw) * TRANSIT_TT * B_TIME\n",
    "\n",
    "simulate_nw = {'Prob. walk': prob1_nw,\n",
    "            'Prob. bike': prob2_nw,\n",
    "            'Prob. auto':prob3_nw,\n",
    "            'Prob. transit':prob4_nw,\n",
    "            'logit elas. 1':logitelas1_nw,\n",
    "            'logit elas. 2':logitelas2_nw,\n",
    "            'logit elas. 3':logitelas3_nw,\n",
    "            'logit elas. 4':logitelas4_nw}\n",
    "\n",
    "parameter_values = {\n",
    "    'ASC_BIKE': pandasResults_nw.loc['ASC_BIKE', 'Value'],\n",
    "    'ASC_TRANSIT': pandasResults_nw.loc['ASC_TRANSIT', 'Value'],\n",
    "    'ASC_WALK': pandasResults_nw.loc['ASC_WALK', 'Value'],\n",
    "    'B_COST': pandasResults_nw.loc['B_COST', 'Value'],\n",
    "    'B_DIST': pandasResults_nw.loc['B_DIST', 'Value'],\n",
    "    'B_TIME': pandasResults_nw.loc['B_TIME', 'Value']\n",
    "}\n",
    "\n",
    "biogeme_nw  = bio.BIOGEME(database,simulate_nw)\n",
    "biogeme_nw.modelName = \"01logit_simul_nw\"\n",
    "sim_results_nw = biogeme_nw.simulate(theBetaValues=parameter_values)\n",
    "print(\"Non-work results=\",sim_results_nw.describe())"
   ]
  },
  {
   "cell_type": "code",
   "execution_count": 15,
   "metadata": {},
   "outputs": [
    {
     "name": "stdout",
     "output_type": "stream",
     "text": [
      "Aggregate direct point elasticity of walk wrt distance for non-work: -0.899\n",
      "Aggregate direct point elasticity of bike wrt distance for non-work: -0.854\n",
      "Aggregate direct point elasticity of auto wrt time for non-work: -0.0226\n",
      "Aggregate direct point elasticity of transit wrt time for non-work: -1.34\n"
     ]
    }
   ],
   "source": [
    "# We calculate the aggregate elasticities\n",
    "\n",
    "# First the denominator of the aggregate elasticity expression.\n",
    "denominator_walk_nw = sim_results_nw['Prob. walk'].sum()\n",
    "denominator_bike_nw = sim_results_nw['Prob. bike'].sum()\n",
    "denominator_auto_nw = sim_results_nw['Prob. auto'].sum()\n",
    "denominator_transit_nw = sim_results_nw['Prob. transit'].sum()\n",
    "\n",
    "# And now the aggregate elasticities themselves.\n",
    "direct_elas_term_walk_dist_nw = (\n",
    "    sim_results_nw['Prob. walk']\n",
    "    * sim_results_nw['logit elas. 1']\n",
    "    / denominator_walk_nw\n",
    ").sum()\n",
    "print(\n",
    "    f'Aggregate direct point elasticity of walk wrt distance for non-work: '\n",
    "    f'{direct_elas_term_walk_dist_nw:.3g}'\n",
    ")\n",
    "\n",
    "direct_elas_term_bike_dist_nw = (\n",
    "    sim_results_nw['Prob. bike']\n",
    "    * sim_results_nw['logit elas. 2']\n",
    "    / denominator_bike_nw\n",
    ").sum()\n",
    "print(\n",
    "    f'Aggregate direct point elasticity of bike wrt distance for non-work: '\n",
    "    f'{direct_elas_term_bike_dist_nw:.3g}'\n",
    ")\n",
    "\n",
    "direct_elas_term_auto_time_nw = (\n",
    "    sim_results_nw['Prob. auto']\n",
    "    * sim_results_nw['logit elas. 3']\n",
    "    / denominator_auto_nw\n",
    ").sum()\n",
    "print(\n",
    "    f'Aggregate direct point elasticity of auto wrt time for non-work: '\n",
    "    f'{direct_elas_term_auto_time_nw:.3g}'\n",
    ")\n",
    "\n",
    "direct_elas_term_transit_time_nw = (\n",
    "    sim_results_nw['Prob. transit']\n",
    "    * sim_results_nw['logit elas. 4']\n",
    "    / denominator_transit_nw\n",
    ").sum()\n",
    "print(\n",
    "    f'Aggregate direct point elasticity of transit wrt time for non-work: '\n",
    "    f'{direct_elas_term_transit_time_nw:.3g}'\n",
    ")"
   ]
  },
  {
   "cell_type": "markdown",
   "metadata": {},
   "source": [
    "# Home-Based Work Trip Model"
   ]
  },
  {
   "cell_type": "code",
   "execution_count": 16,
   "metadata": {},
   "outputs": [],
   "source": [
    "hbw_filt = (my_trips.trippurp==\"HBW\")\n",
    "hbw_trips = my_trips.loc[hbw_filt].select_dtypes(exclude=['object'])\n",
    "hbw_trips.fillna(-1, inplace=True)\n",
    "hbw_trips[\"walk_av\"] = (hbw_trips.trpmiles   <=  hbw_trips[hbw_trips.ch_mode==1].trpmiles.max()).astype(int)\n",
    "hbw_trips[\"bike_av\"] = (hbw_trips.trpmiles   <=  hbw_trips[hbw_trips.ch_mode==2].trpmiles.max()).astype(int)\n",
    "hbw_trips[\"auto_av\"] = 1\n",
    "hbw_trips[\"transit_av\"] = 1"
   ]
  },
  {
   "cell_type": "markdown",
   "metadata": {},
   "source": [
    "We don't want to include a record if it has a negative value in a critical column. We'll filter the dataframe for those important columns."
   ]
  },
  {
   "cell_type": "code",
   "execution_count": 17,
   "metadata": {},
   "outputs": [],
   "source": [
    "# Update based on if you add more columns to models that potentially contain negative numbers\n",
    "check_cols = [\"auto_tt\",\"auto_cost\", \"transit_tt\", \"transit_acct\", \"transit_egrt\", \"transit_waitt\", \"trpmiles\", \"ch_mode\"]\n",
    "hbw_trips = hbw_trips[hbw_trips.loc[:,check_cols].sum(axis=1)>-1]"
   ]
  },
  {
   "cell_type": "code",
   "execution_count": 18,
   "metadata": {
    "scrolled": true
   },
   "outputs": [],
   "source": [
    "# Need to import data to the Biogeme database structure\n",
    "database = db.Database(\"my_hbw_trips\",hbw_trips)\n",
    "database.data.head()\n",
    "\n",
    "# Define Biogeme variables\n",
    "AUTO_TT = Variable(\"auto_tt\")\n",
    "AUTO_COST = Variable(\"auto_cost\")\n",
    "TRANSIT_TT = Variable(\"transit_tt\")\n",
    "DIST = Variable(\"trpmiles\")\n",
    "CHOICE = Variable(\"ch_mode\")\n",
    "WALK_AV = Variable(\"walk_av\")\n",
    "BIKE_AV = Variable(\"bike_av\")\n",
    "AUTO_AV = Variable(\"auto_av\")\n",
    "TRANSIT_AV = Variable(\"transit_av\")"
   ]
  },
  {
   "cell_type": "markdown",
   "metadata": {},
   "source": [
    "We can then define the names and starting values for the model parameters. There are 5 parameters defined for the base Swiss Metro model. Biogeme uses a constrained optimization to reduce the search space. The Beta function is called as follows:\n",
    "```python\n",
    "Beta(parameter name AS str, initial value AS int, lower bound AS int, upper bound AS int, fixed AS int)\n",
    "```\n",
    "If there are no bounds on the parameter search space, the use may enter: ```None```. A value of ```0``` for the ```fixed``` parameter will allow Biogeme to estimate the parameter. In this case, we have only fixed the ASC for the swiss metro mode, to maintain model indentification."
   ]
  },
  {
   "cell_type": "code",
   "execution_count": 19,
   "metadata": {},
   "outputs": [],
   "source": [
    "ASC_WALK = Beta('ASC_WALK',0,None,None,0)\n",
    "ASC_BIKE = Beta('ASC_BIKE',0,None,None,0)\n",
    "ASC_TRANSIT = Beta('ASC_TRANSIT',0,None,None,0)\n",
    "B_TIME = Beta('B_TIME',0,None,None,0)\n",
    "B_COST = Beta('B_COST',0,None,None,0)\n",
    "B_DIST = Beta('B_DIST',0,None,None,0)"
   ]
  },
  {
   "cell_type": "markdown",
   "metadata": {},
   "source": [
    "The next step is to define the utility function for each alternative mode."
   ]
  },
  {
   "cell_type": "code",
   "execution_count": 20,
   "metadata": {
    "tags": []
   },
   "outputs": [],
   "source": [
    "V1 = ASC_WALK + \\\n",
    "     B_DIST * DIST\n",
    "V2 = ASC_BIKE + \\\n",
    "     B_DIST * DIST\n",
    "V3 = B_TIME * AUTO_TT + \\\n",
    "     B_COST * AUTO_COST\n",
    "V4 = ASC_TRANSIT + \\\n",
    "     B_TIME * TRANSIT_TT"
   ]
  },
  {
   "cell_type": "markdown",
   "metadata": {},
   "source": [
    "Biogeme has a variety of built-in discrete choice models, which the user can leverage. However, it also allows the user to define their own likelihood function if it is not available in the built-in model library. In this case, we use the built-in ```bioLogLogit``` function to estimate the model."
   ]
  },
  {
   "cell_type": "code",
   "execution_count": 21,
   "metadata": {},
   "outputs": [],
   "source": [
    "# Associate utility functions with the numbering of alternatives\n",
    "V = {1: V1,\n",
    "     2: V2,\n",
    "     3: V3,\n",
    "     4: V4}\n",
    "\n",
    "# Associate the availability conditions with the alternatives\n",
    "\n",
    "av = {1: WALK_AV,\n",
    "      2: BIKE_AV,\n",
    "      3: AUTO_AV,\n",
    "      4: TRANSIT_AV}\n",
    "\n",
    "logprob_w = models.loglogit(V,av,CHOICE)\n",
    "biogeme_w  = bio.BIOGEME(database,logprob_w)\n",
    "biogeme_w.modelName = \"01logit\"\n",
    "results_w = biogeme_w.estimate()"
   ]
  },
  {
   "cell_type": "markdown",
   "metadata": {},
   "source": [
    "The results of the model estimation can then be printed to the terminal."
   ]
  },
  {
   "cell_type": "code",
   "execution_count": 22,
   "metadata": {
    "scrolled": true
   },
   "outputs": [
    {
     "name": "stdout",
     "output_type": "stream",
     "text": [
      "                 Value  Rob. Std err  Rob. t-test  Rob. p-value\n",
      "ASC_BIKE     12.337888      6.003085     2.055258      0.039854\n",
      "ASC_TRANSIT -93.352696     31.813987    -2.934329      0.003343\n",
      "ASC_WALK     12.949051      6.132879     2.111415      0.034737\n",
      "B_COST        0.070753      0.027190     2.602140      0.009264\n",
      "B_DIST       -0.593567      0.319822    -1.855928      0.063464\n",
      "B_TIME       -0.145122      0.043042    -3.371664      0.000747\n"
     ]
    }
   ],
   "source": [
    "# Get the results in a pandas table\n",
    "pandasResults_w = results_w.getEstimatedParameters()\n",
    "print(pandasResults_w)"
   ]
  },
  {
   "cell_type": "markdown",
   "metadata": {},
   "source": [
    "**NOTE:** The above model gives appropriate results for the sample CBSA! This may not be true for your dataset. DO NOT submit results with positive cost, distance, or time parameters."
   ]
  },
  {
   "cell_type": "markdown",
   "metadata": {},
   "source": [
    "Our cost parameter value is positive, so it is removed from the next step."
   ]
  },
  {
   "cell_type": "code",
   "execution_count": 23,
   "metadata": {},
   "outputs": [],
   "source": [
    "# Get the beta parameters estimated in previous step\n",
    "betas = results_w.getBetaValues()\n",
    "\n",
    "ASC_WALK = Beta('ASC_WALK',betas['ASC_WALK'],None,None,0)\n",
    "ASC_BIKE = Beta('ASC_BIKE',betas['ASC_BIKE'],None,None,0)\n",
    "ASC_TRANSIT = Beta('ASC_TRANSIT',betas['ASC_TRANSIT'],None,None,0)\n",
    "B_TIME = Beta('B_TIME',betas['B_TIME'],None,None,0)\n",
    "B_DIST = Beta('B_DIST',betas['B_DIST'],None,None,0)\n",
    "\n",
    "prob1_w = models.logit(V,av,1)\n",
    "prob2_w = models.logit(V,av,2)\n",
    "prob3_w = models.logit(V,av,3)\n",
    "prob4_w = models.logit(V,av,4)"
   ]
  },
  {
   "cell_type": "markdown",
   "metadata": {},
   "source": [
    "We can then calculate the set of elasticities. We can then complete the process using the .simulate() function. This will calculate the probabilities and elasticities for each observation. The Pandas .describe() function is useful to print the statistics for each of these calculated values (i.e. mean, minimum, maximum, standard deviation, percentiles)."
   ]
  },
  {
   "cell_type": "code",
   "execution_count": 24,
   "metadata": {
    "scrolled": true
   },
   "outputs": [
    {
     "name": "stderr",
     "output_type": "stream",
     "text": [
      "The chosen alternative [`1.0`] is not available for the following observations (rownumber[choice]): 0[1.0]-6[1.0]-7[1.0]-8[1.0]-9[1.0]-10[1.0]-11[1.0]-12[1.0]-13[1.0]-14[1.0]-15[1.0]-16[1.0]-17[1.0]-1...\n",
      "The chosen alternative [`2.0`] is not available for the following observations (rownumber[choice]): 6[2.0]-7[2.0]-8[2.0]-9[2.0]-12[2.0]-15[2.0]-18[2.0]-22[2.0]-27[2.0]-28[2.0]-29[2.0]-30[2.0]-34[2.0]-...\n",
      "The chosen alternative [`1.0`] is not available for the following observations (rownumber[choice]): 0[1.0]-6[1.0]-7[1.0]-8[1.0]-9[1.0]-10[1.0]-11[1.0]-12[1.0]-13[1.0]-14[1.0]-15[1.0]-16[1.0]-17[1.0]-1...\n",
      "The chosen alternative [`2.0`] is not available for the following observations (rownumber[choice]): 6[2.0]-7[2.0]-8[2.0]-9[2.0]-12[2.0]-15[2.0]-18[2.0]-22[2.0]-27[2.0]-28[2.0]-29[2.0]-30[2.0]-34[2.0]-...\n"
     ]
    },
    {
     "name": "stderr",
     "output_type": "stream",
     "text": [
      "The chosen alternative [`1.0`] is not available for the following observations (rownumber[choice]): 0[1.0]-6[1.0]-7[1.0]-8[1.0]-9[1.0]-10[1.0]-11[1.0]-12[1.0]-13[1.0]-14[1.0]-15[1.0]-16[1.0]-17[1.0]-1...\n",
      "The chosen alternative [`2.0`] is not available for the following observations (rownumber[choice]): 6[2.0]-7[2.0]-8[2.0]-9[2.0]-12[2.0]-15[2.0]-18[2.0]-22[2.0]-27[2.0]-28[2.0]-29[2.0]-30[2.0]-34[2.0]-...\n",
      "The chosen alternative [`1.0`] is not available for the following observations (rownumber[choice]): 0[1.0]-6[1.0]-7[1.0]-8[1.0]-9[1.0]-10[1.0]-11[1.0]-12[1.0]-13[1.0]-14[1.0]-15[1.0]-16[1.0]-17[1.0]-1...\n",
      "The chosen alternative [`2.0`] is not available for the following observations (rownumber[choice]): 6[2.0]-7[2.0]-8[2.0]-9[2.0]-12[2.0]-15[2.0]-18[2.0]-22[2.0]-27[2.0]-28[2.0]-29[2.0]-30[2.0]-34[2.0]-...\n"
     ]
    },
    {
     "name": "stdout",
     "output_type": "stream",
     "text": [
      "Results=        Prob. walk  Prob. bike    Prob. auto  Prob. transit  logit elas. 1  \\\n",
      "count  738.000000  738.000000  7.380000e+02     738.000000     738.000000   \n",
      "mean     0.036090    0.003907  9.551777e-01       0.004826      -0.254455   \n",
      "std      0.074803    0.006957  8.911503e-02       0.036889       0.542536   \n",
      "min      0.000000    0.000000  6.309175e-07       0.001728      -2.135179   \n",
      "25%      0.000000    0.000000  9.902231e-01       0.002533       0.000000   \n",
      "50%      0.000000    0.000207  9.960865e-01       0.003249       0.000000   \n",
      "75%      0.000000    0.005067  9.974564e-01       0.003849       0.000000   \n",
      "max      0.357701    0.033969  9.982724e-01       0.999999       0.000000   \n",
      "\n",
      "       logit elas. 2  logit elas. 3  logit elas. 4  \n",
      "count     738.000000     738.000000     738.000000  \n",
      "mean       -1.848327      -0.039215      -1.551237  \n",
      "std         2.195513       0.770775       0.534442  \n",
      "min        -7.313407     -20.935868      -3.408124  \n",
      "25%        -3.541546      -0.007411      -1.931222  \n",
      "50%        -0.898716      -0.002308      -1.318393  \n",
      "75%         0.000000      -0.001367      -1.043885  \n",
      "max         0.000000      -0.000381      -0.000001  \n"
     ]
    }
   ],
   "source": [
    "logitelas1_w = WALK_AV * (1.0 - prob1_w) * DIST * B_DIST\n",
    "logitelas2_w = BIKE_AV * (1.0 - prob2_w) * DIST * B_DIST\n",
    "logitelas3_w = (1.0 - prob3_w) * AUTO_TT * B_TIME\n",
    "logitelas4_w = (1.0 - prob4_w) * TRANSIT_TT * B_TIME\n",
    "\n",
    "simulate_w = {'Prob. walk': prob1_w,\n",
    "            'Prob. bike': prob2_w,\n",
    "            'Prob. auto':prob3_w,\n",
    "            'Prob. transit':prob4_w,\n",
    "            'logit elas. 1':logitelas1_w,\n",
    "            'logit elas. 2':logitelas2_w,\n",
    "            'logit elas. 3':logitelas3_w,\n",
    "            'logit elas. 4':logitelas4_w}\n",
    "\n",
    "parameter_values = {\n",
    "    'ASC_BIKE': pandasResults_nw.loc['ASC_BIKE', 'Value'],\n",
    "    'ASC_TRANSIT': pandasResults_nw.loc['ASC_TRANSIT', 'Value'],\n",
    "    'ASC_WALK': pandasResults_nw.loc['ASC_WALK', 'Value'],\n",
    "    'B_COST': pandasResults_nw.loc['B_COST', 'Value'],\n",
    "    'B_DIST': pandasResults_nw.loc['B_DIST', 'Value'],\n",
    "    'B_TIME': pandasResults_nw.loc['B_TIME', 'Value']\n",
    "}\n",
    "\n",
    "biogeme_w  = bio.BIOGEME(database,simulate_w)\n",
    "biogeme_w.modelName = \"01logit_simul\"\n",
    "sim_results_w = biogeme_w.simulate(theBetaValues=parameter_values)\n",
    "print(\"Results=\",sim_results_w.describe())"
   ]
  },
  {
   "cell_type": "code",
   "execution_count": 25,
   "metadata": {},
   "outputs": [
    {
     "name": "stdout",
     "output_type": "stream",
     "text": [
      "Aggregate direct point elasticity of walk wrt distance: -0.832\n",
      "Aggregate direct point elasticity of bike wrt distance: -1.25\n",
      "Aggregate direct point elasticity of auto wrt time: -0.0094\n",
      "Aggregate direct point elasticity of transit wrt time: -1.1\n"
     ]
    }
   ],
   "source": [
    "# We calculate the aggregate elasticities\n",
    "\n",
    "# First the denominator of the aggregate elasticity expression.\n",
    "denominator_walk_w = sim_results_w['Prob. walk'].sum()\n",
    "denominator_bike_w = sim_results_w['Prob. bike'].sum()\n",
    "denominator_auto_w = sim_results_w['Prob. auto'].sum()\n",
    "denominator_transit_w = sim_results_w['Prob. transit'].sum()\n",
    "\n",
    "# And now the aggregate elasticities themselves.\n",
    "direct_elas_term_walk_dist_w = (\n",
    "    sim_results_w['Prob. walk']\n",
    "    * sim_results_w['logit elas. 1']\n",
    "    / denominator_walk_w\n",
    ").sum()\n",
    "print(\n",
    "    f'Aggregate direct point elasticity of walk wrt distance: '\n",
    "    f'{direct_elas_term_walk_dist_w:.3g}'\n",
    ")\n",
    "\n",
    "direct_elas_term_bike_dist_w = (\n",
    "    sim_results_w['Prob. bike']\n",
    "    * sim_results_w['logit elas. 2']\n",
    "    / denominator_bike_w\n",
    ").sum()\n",
    "print(\n",
    "    f'Aggregate direct point elasticity of bike wrt distance: '\n",
    "    f'{direct_elas_term_bike_dist_w:.3g}'\n",
    ")\n",
    "\n",
    "direct_elas_term_auto_time_w = (\n",
    "    sim_results_w['Prob. auto']\n",
    "    * sim_results_w['logit elas. 3']\n",
    "    / denominator_auto_w\n",
    ").sum()\n",
    "print(\n",
    "    f'Aggregate direct point elasticity of auto wrt time: '\n",
    "    f'{direct_elas_term_auto_time_w:.3g}'\n",
    ")\n",
    "\n",
    "direct_elas_term_transit_time_w = (\n",
    "    sim_results_w['Prob. transit']\n",
    "    * sim_results_w['logit elas. 4']\n",
    "    / denominator_transit_w\n",
    ").sum()\n",
    "print(\n",
    "    f'Aggregate direct point elasticity of transit wrt time: '\n",
    "    f'{direct_elas_term_transit_time_w:.3g}'\n",
    ")"
   ]
  },
  {
   "cell_type": "markdown",
   "metadata": {
    "tags": []
   },
   "source": [
    "# Supplemental notes\n",
    "Biogeme provides many other functions for viewing results: <br> getGeneralStatistics() <br> getEstimatedParameters() <br> getCorrelationResults() <br> getBetaValues() <br> getRobustVarCovar() <br> getBetasForSensitivityAnalysis()\n",
    "\n",
    "The manuals are also quite helpful: <br>\n",
    "http://biogeme.epfl.ch/documents.html"
   ]
  },
  {
   "cell_type": "code",
   "execution_count": null,
   "metadata": {},
   "outputs": [],
   "source": []
  }
 ],
 "metadata": {
  "kernelspec": {
   "display_name": "Python 3 (ipykernel)",
   "language": "python",
   "name": "python3"
  },
  "language_info": {
   "codemirror_mode": {
    "name": "ipython",
    "version": 3
   },
   "file_extension": ".py",
   "mimetype": "text/x-python",
   "name": "python",
   "nbconvert_exporter": "python",
   "pygments_lexer": "ipython3",
   "version": "3.10.8"
  }
 },
 "nbformat": 4,
 "nbformat_minor": 4
}
